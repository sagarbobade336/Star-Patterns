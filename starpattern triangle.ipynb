{
 "cells": [
  {
   "cell_type": "markdown",
   "id": "b258b7ac-ea08-49c1-86df-ab8775d7fde8",
   "metadata": {},
   "source": [
    "# Left Hand pyramid"
   ]
  },
  {
   "cell_type": "code",
   "execution_count": 26,
   "id": "da115f99-7b32-4c50-93c7-bb50da8c83fc",
   "metadata": {},
   "outputs": [
    {
     "name": "stdout",
     "output_type": "stream",
     "text": [
      "    *\n",
      "   **\n",
      "  ***\n",
      " ****\n",
      "*****\n"
     ]
    }
   ],
   "source": [
    "rows=6\n",
    "for i in range(1,rows):\n",
    "    print(\" \"*(rows-i-1),end=\"\")\n",
    "    print(\"*\"*i)"
   ]
  },
  {
   "cell_type": "markdown",
   "id": "4186687a-fa3d-4abd-87da-4be4462b8471",
   "metadata": {},
   "source": [
    "# Reverse left hand pyramid"
   ]
  },
  {
   "cell_type": "code",
   "execution_count": 105,
   "id": "c2e853b8-86fe-4b35-85a8-5d8a81ce4b3b",
   "metadata": {},
   "outputs": [],
   "source": [
    "def rows(n):\n",
    "    for i in range(n):\n",
    "        print(\" \"*i+\"*\"*(n-i))\n",
    "        \n",
    "        "
   ]
  },
  {
   "cell_type": "code",
   "execution_count": 107,
   "id": "69b9bea0-60da-4e76-85c1-9b3c80a24b80",
   "metadata": {},
   "outputs": [
    {
     "name": "stdout",
     "output_type": "stream",
     "text": [
      "******\n",
      " *****\n",
      "  ****\n",
      "   ***\n",
      "    **\n",
      "     *\n"
     ]
    }
   ],
   "source": [
    "rows(6)"
   ]
  },
  {
   "cell_type": "markdown",
   "id": "7cf8de93-4f0b-4e95-898c-61b426fc7970",
   "metadata": {},
   "source": [
    "# Right Hand Pyramid"
   ]
  },
  {
   "cell_type": "code",
   "execution_count": 33,
   "id": "6301e468-6b26-47b8-9a46-3c15255c9473",
   "metadata": {},
   "outputs": [
    {
     "name": "stdout",
     "output_type": "stream",
     "text": [
      "*\n",
      "**\n",
      "***\n",
      "****\n"
     ]
    }
   ],
   "source": [
    "n=5\n",
    "for i in range(1,5):\n",
    "    print(\"*\"*i)"
   ]
  },
  {
   "cell_type": "code",
   "execution_count": 35,
   "id": "641e0a63-fffa-407b-b3d7-06a0275439b2",
   "metadata": {},
   "outputs": [
    {
     "name": "stdout",
     "output_type": "stream",
     "text": [
      "*\n",
      "**\n",
      "***\n",
      "****\n",
      "*****\n"
     ]
    }
   ],
   "source": [
    "for i in [1,2,3,4,5]:\n",
    "    print(\"*\"*i)"
   ]
  },
  {
   "cell_type": "markdown",
   "id": "af95e338-447a-4b5a-9f8b-ef717f7bf386",
   "metadata": {},
   "source": [
    "# Reverse right hand pyramid"
   ]
  },
  {
   "cell_type": "code",
   "execution_count": 43,
   "id": "5bd1f217-fda9-4831-9aee-18c044c9913e",
   "metadata": {},
   "outputs": [
    {
     "name": "stdout",
     "output_type": "stream",
     "text": [
      "*****\n",
      "****\n",
      "***\n",
      "**\n",
      "*\n"
     ]
    }
   ],
   "source": [
    "rows=6\n",
    "for i in range(1,rows):\n",
    "    print(\"*\"*(rows-i))\n",
    "    "
   ]
  },
  {
   "cell_type": "code",
   "execution_count": null,
   "id": "13cee75c-18f3-422a-9326-5ec6dcbb4260",
   "metadata": {},
   "outputs": [],
   "source": []
  }
 ],
 "metadata": {
  "kernelspec": {
   "display_name": "Python [conda env:base] *",
   "language": "python",
   "name": "conda-base-py"
  },
  "language_info": {
   "codemirror_mode": {
    "name": "ipython",
    "version": 3
   },
   "file_extension": ".py",
   "mimetype": "text/x-python",
   "name": "python",
   "nbconvert_exporter": "python",
   "pygments_lexer": "ipython3",
   "version": "3.11.7"
  }
 },
 "nbformat": 4,
 "nbformat_minor": 5
}
